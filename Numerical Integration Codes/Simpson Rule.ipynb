{
 "cells": [
  {
   "cell_type": "code",
   "execution_count": 1,
   "metadata": {},
   "outputs": [],
   "source": [
    "import sympy as sp"
   ]
  },
  {
   "cell_type": "code",
   "execution_count": 2,
   "metadata": {},
   "outputs": [],
   "source": [
    "x,i = sp.symbols('x,i')"
   ]
  },
  {
   "cell_type": "markdown",
   "metadata": {},
   "source": [
    "# Simpson Rule"
   ]
  },
  {
   "cell_type": "code",
   "execution_count": 47,
   "metadata": {},
   "outputs": [],
   "source": [
    "#Simpson Rule \n",
    "\n",
    "\n",
    "def simp_rule(f,a,b):                    #input the integrand f, lower bound a, upper bound b\n",
    "\n",
    "    h = b - a\n",
    "    fa = f.subs(x,a)                     #Compute f(a) value\n",
    "    fb = f.subs(x,b)                     #Compute f(b) value\n",
    "    fab_2 = f.subs(x,(b+a)/2)            #Compute f(b+a/2) value\n",
    "    \n",
    "    I_simp = (h/6) * (fa + 4*fab_2 + fb) #Simpson Rule Formula\n",
    "    \n",
    "    return I_simp.evalf()\n",
    "\n"
   ]
  },
  {
   "cell_type": "markdown",
   "metadata": {},
   "source": [
    "# Example of Simpson Rule"
   ]
  },
  {
   "cell_type": "markdown",
   "metadata": {},
   "source": [
    "Let's test the Simpson rule on the function $f(x)=e^{x}$ on the interval $[0,1]$"
   ]
  },
  {
   "cell_type": "code",
   "execution_count": 48,
   "metadata": {},
   "outputs": [
    {
     "data": {
      "text/latex": [
       "$\\displaystyle 1.71886115187659$"
      ],
      "text/plain": [
       "1.71886115187659"
      ]
     },
     "execution_count": 48,
     "metadata": {},
     "output_type": "execute_result"
    }
   ],
   "source": [
    "simp_rule(sp.exp(x),0,1) "
   ]
  },
  {
   "cell_type": "markdown",
   "metadata": {},
   "source": [
    "The actual value is $\\int_{0}^{1} e^{x} dx =1.71828182845905$"
   ]
  },
  {
   "cell_type": "code",
   "execution_count": null,
   "metadata": {},
   "outputs": [],
   "source": []
  }
 ],
 "metadata": {
  "kernelspec": {
   "display_name": "Python 3",
   "language": "python",
   "name": "python3"
  },
  "language_info": {
   "codemirror_mode": {
    "name": "ipython",
    "version": 3
   },
   "file_extension": ".py",
   "mimetype": "text/x-python",
   "name": "python",
   "nbconvert_exporter": "python",
   "pygments_lexer": "ipython3",
   "version": "3.7.4"
  }
 },
 "nbformat": 4,
 "nbformat_minor": 2
}
