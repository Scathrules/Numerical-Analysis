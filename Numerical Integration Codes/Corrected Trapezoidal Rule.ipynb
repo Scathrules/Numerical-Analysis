{
 "cells": [
  {
   "cell_type": "code",
   "execution_count": 1,
   "metadata": {},
   "outputs": [],
   "source": [
    "import sympy as sp"
   ]
  },
  {
   "cell_type": "code",
   "execution_count": 2,
   "metadata": {},
   "outputs": [],
   "source": [
    "x,i = sp.symbols('x,i')"
   ]
  },
  {
   "cell_type": "markdown",
   "metadata": {},
   "source": [
    "# Corrected Trapezoidal Rule"
   ]
  },
  {
   "cell_type": "code",
   "execution_count": 51,
   "metadata": {},
   "outputs": [],
   "source": [
    "#Corrected Trapezoidal Rule \n",
    "\n",
    "\n",
    "def corr_trap(f,a,b):                     #input the integrand f, lower bound a, upper bound b\n",
    "\n",
    "    h = b - a\n",
    "    fa = f.subs(x,a)                      #Compute f(a) value\n",
    "    fb = f.subs(x,b)                      #Compute f(b) value\n",
    "    f_deriv1 = sp.diff(f,x)               #First derivative of function f(x)\n",
    "    \n",
    "    I_CT = ((h/2)*(f.subs(x,a) + f.subs(x,b))) #Corrected Trapezoidal Rule Formula\n",
    "    + (((h**2)/12)*(f_deriv1.subs(x,a) - f_deriv1.subs(x,b)))\n",
    "    \n",
    "    return I_CT.evalf()\n",
    "\n"
   ]
  },
  {
   "cell_type": "markdown",
   "metadata": {},
   "source": [
    "# Example of Corrected Trapezoidal Rule "
   ]
  },
  {
   "cell_type": "markdown",
   "metadata": {},
   "source": [
    "Let's test the corrected trapezoidal rule on the function $f(x)=e^{x}$ on the interval $[0,1]$"
   ]
  },
  {
   "cell_type": "code",
   "execution_count": 52,
   "metadata": {},
   "outputs": [
    {
     "data": {
      "text/latex": [
       "$\\displaystyle 1.85914091422952$"
      ],
      "text/plain": [
       "1.85914091422952"
      ]
     },
     "execution_count": 52,
     "metadata": {},
     "output_type": "execute_result"
    }
   ],
   "source": [
    "corr_trap(sp.exp(x),0,1)"
   ]
  },
  {
   "cell_type": "markdown",
   "metadata": {},
   "source": [
    "The actual value is $\\int_{0}^{1} e^{x} dx =1.71828182845905$"
   ]
  },
  {
   "cell_type": "code",
   "execution_count": null,
   "metadata": {},
   "outputs": [],
   "source": []
  }
 ],
 "metadata": {
  "kernelspec": {
   "display_name": "Python 3",
   "language": "python",
   "name": "python3"
  },
  "language_info": {
   "codemirror_mode": {
    "name": "ipython",
    "version": 3
   },
   "file_extension": ".py",
   "mimetype": "text/x-python",
   "name": "python",
   "nbconvert_exporter": "python",
   "pygments_lexer": "ipython3",
   "version": "3.7.4"
  }
 },
 "nbformat": 4,
 "nbformat_minor": 2
}
