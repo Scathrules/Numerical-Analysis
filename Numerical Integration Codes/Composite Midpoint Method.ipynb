{
 "cells": [
  {
   "cell_type": "code",
   "execution_count": 41,
   "metadata": {},
   "outputs": [],
   "source": [
    "import sympy as sp"
   ]
  },
  {
   "cell_type": "code",
   "execution_count": 53,
   "metadata": {},
   "outputs": [],
   "source": [
    "x,i = sp.symbols('x,i')"
   ]
  },
  {
   "cell_type": "markdown",
   "metadata": {},
   "source": [
    "# Composite Midpoint Method"
   ]
  },
  {
   "cell_type": "code",
   "execution_count": 59,
   "metadata": {},
   "outputs": [],
   "source": [
    "#Composite Midpoint Method\n",
    "\n",
    "\n",
    "def comp_mid(f,a,b,r):                   #input the integrand f, lower bound a, upper bound b, and number r \n",
    "                                         #of subintervals\n",
    "\n",
    "    h = (b-a)/r                          #Width of each subinterval\n",
    "    ti = a + (i-(1/2))*h                 #Subinterval value ti\n",
    "    \n",
    "    I_CM = h * (sp.Sum(f.subs(x,ti),(i,1,int(r)))) #Composite Midpoint Method Formula\n",
    "    \n",
    "    return I_CM.evalf()\n",
    "\n"
   ]
  },
  {
   "cell_type": "markdown",
   "metadata": {},
   "source": [
    "# Example of Composite Midpoint Method"
   ]
  },
  {
   "cell_type": "markdown",
   "metadata": {},
   "source": [
    "Let's test the composite midpoint method on the function $f(x)=\\frac{4}{1+x^{2}}$ on the interval $[0,1]$ with $r=32$ subintervals"
   ]
  },
  {
   "cell_type": "code",
   "execution_count": 60,
   "metadata": {},
   "outputs": [
    {
     "data": {
      "text/latex": [
       "$\\displaystyle 3.14167403379634$"
      ],
      "text/plain": [
       "3.14167403379634"
      ]
     },
     "execution_count": 60,
     "metadata": {},
     "output_type": "execute_result"
    }
   ],
   "source": [
    "comp_mid(4/(1+x**2),0,1,32).evalf()"
   ]
  },
  {
   "cell_type": "markdown",
   "metadata": {},
   "source": [
    "The actual value is $\\int_{0}^{1} \\frac{4}{1+x^{2}} \\, dx=\\pi$"
   ]
  },
  {
   "cell_type": "code",
   "execution_count": null,
   "metadata": {},
   "outputs": [],
   "source": []
  }
 ],
 "metadata": {
  "kernelspec": {
   "display_name": "Python 3",
   "language": "python",
   "name": "python3"
  },
  "language_info": {
   "codemirror_mode": {
    "name": "ipython",
    "version": 3
   },
   "file_extension": ".py",
   "mimetype": "text/x-python",
   "name": "python",
   "nbconvert_exporter": "python",
   "pygments_lexer": "ipython3",
   "version": "3.7.4"
  }
 },
 "nbformat": 4,
 "nbformat_minor": 2
}
