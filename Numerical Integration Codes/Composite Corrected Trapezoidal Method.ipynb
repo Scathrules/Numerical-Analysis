{
 "cells": [
  {
   "cell_type": "code",
   "execution_count": 41,
   "metadata": {},
   "outputs": [],
   "source": [
    "import sympy as sp"
   ]
  },
  {
   "cell_type": "code",
   "execution_count": 53,
   "metadata": {},
   "outputs": [],
   "source": [
    "x,i = sp.symbols('x,i')"
   ]
  },
  {
   "cell_type": "markdown",
   "metadata": {},
   "source": [
    "# Composite Corrected Trapezoidal Method"
   ]
  },
  {
   "cell_type": "code",
   "execution_count": 61,
   "metadata": {},
   "outputs": [],
   "source": [
    "#Composite Corrected Trapezoidal Method\n",
    "\n",
    "\n",
    "def comp_ctm(f,a,b,r):                    #input the integrand f, lower bound a, upper bound b, and number r \n",
    "                                          #of subintervals\n",
    "\n",
    "    h = (b-a)/r                           #Width of subinterval\n",
    "    ti = a + i*h                          #Subinterval value ti\n",
    "    f_deriv1 = sp.diff(f,x)               #First derivative of f(x)\n",
    "    fa = f.subs(x,a)                      #Compute f(a) value\n",
    "    fb = f.subs(x,b)                      #Compute f(b) value\n",
    "    \n",
    "    I_CTM = (((h**2)/12)*(f_deriv1.subs(x,a)-f_deriv1.subs(x,b))) + (\n",
    "        (h/2)*(fa + 2*(sp.Sum(f.subs(x,ti),(i,1,int(r-1)))) + fb)) #Composite Corrected Trapezoidal Method Formula\n",
    "    \n",
    "    \n",
    "    return I_CTM.evalf()\n",
    "\n"
   ]
  },
  {
   "cell_type": "markdown",
   "metadata": {},
   "source": [
    "# Example of Composite Corrected Trapezoidal Method"
   ]
  },
  {
   "cell_type": "markdown",
   "metadata": {},
   "source": [
    "Let's test the composite trapezoidal method on the function $f(x)=e^{-x^{2}}$ on the interval $[0,1]$ with $r=10$ subintervals"
   ]
  },
  {
   "cell_type": "code",
   "execution_count": 30,
   "metadata": {},
   "outputs": [
    {
     "data": {
      "text/latex": [
       "$\\displaystyle 0.746823928533702$"
      ],
      "text/plain": [
       "0.746823928533702"
      ]
     },
     "execution_count": 30,
     "metadata": {},
     "output_type": "execute_result"
    }
   ],
   "source": [
    "comp_ctm(sp.exp(-x**2),0,1,10) "
   ]
  },
  {
   "cell_type": "markdown",
   "metadata": {},
   "source": [
    "The actual value is $\\int_{0}^{1} e^{-x^{2}} dx = \\frac{\\sqrt{\\pi}}{2}\\text{erf}(1)$"
   ]
  },
  {
   "cell_type": "code",
   "execution_count": null,
   "metadata": {},
   "outputs": [],
   "source": []
  }
 ],
 "metadata": {
  "kernelspec": {
   "display_name": "Python 3",
   "language": "python",
   "name": "python3"
  },
  "language_info": {
   "codemirror_mode": {
    "name": "ipython",
    "version": 3
   },
   "file_extension": ".py",
   "mimetype": "text/x-python",
   "name": "python",
   "nbconvert_exporter": "python",
   "pygments_lexer": "ipython3",
   "version": "3.7.4"
  }
 },
 "nbformat": 4,
 "nbformat_minor": 2
}
