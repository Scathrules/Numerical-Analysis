{
 "cells": [
  {
   "cell_type": "code",
   "execution_count": 41,
   "metadata": {},
   "outputs": [],
   "source": [
    "import sympy as sp"
   ]
  },
  {
   "cell_type": "code",
   "execution_count": 53,
   "metadata": {},
   "outputs": [],
   "source": [
    "x,i = sp.symbols('x,i')"
   ]
  },
  {
   "cell_type": "markdown",
   "metadata": {},
   "source": [
    "# Composite Simpson Method"
   ]
  },
  {
   "cell_type": "code",
   "execution_count": 57,
   "metadata": {},
   "outputs": [],
   "source": [
    "#Composite Simpson Method\n",
    "\n",
    "\n",
    "def comp_simp(f,a,b,r):                   #input the integrand f, lower bound a, upper bound b, and number r \n",
    "                                          #of subintervals\n",
    "\n",
    "    h = (b-a)/r                           #Width of each subinterval\n",
    "    ti = a + i*h                          #Subinterval value ti\n",
    "    fa = f.subs(x,a)                      #Compute f(a) value\n",
    "    fb = f.subs(x,b)                      #Compute f(b) value\n",
    "    \n",
    "    I_CS = (h/3)*(fa + (2*(sp.Sum(f.subs(x,ti.subs(i,2*i)),(i,1,int(r/2-1))))) + #Composite Simpson Method Formula\n",
    "                  (4*(sp.Sum(f.subs(x,ti.subs(i,2*i-1)),(i,1,int(r/2))))) + fb)\n",
    "    \n",
    "    return I_CS.evalf()\n",
    "\n"
   ]
  },
  {
   "cell_type": "markdown",
   "metadata": {},
   "source": [
    "# Example of Composite Simpson Method"
   ]
  },
  {
   "cell_type": "markdown",
   "metadata": {},
   "source": [
    "Let's test the composite simpson method on the function $f(x)=\\frac{4}{1+x^{2}}$ on the interval $[0,1]$ with $r=32$ subintervals"
   ]
  },
  {
   "cell_type": "code",
   "execution_count": 58,
   "metadata": {},
   "outputs": [
    {
     "data": {
      "text/latex": [
       "$\\displaystyle 3.14159265355284$"
      ],
      "text/plain": [
       "3.14159265355284"
      ]
     },
     "execution_count": 58,
     "metadata": {},
     "output_type": "execute_result"
    }
   ],
   "source": [
    "comp_simp(4/(1+x**2),0,1,32).evalf()"
   ]
  },
  {
   "cell_type": "markdown",
   "metadata": {},
   "source": [
    "The actual value is $\\int_{0}^{1} \\frac{4}{1+x^{2}} \\, dx=\\pi$"
   ]
  },
  {
   "cell_type": "code",
   "execution_count": null,
   "metadata": {},
   "outputs": [],
   "source": []
  }
 ],
 "metadata": {
  "kernelspec": {
   "display_name": "Python 3",
   "language": "python",
   "name": "python3"
  },
  "language_info": {
   "codemirror_mode": {
    "name": "ipython",
    "version": 3
   },
   "file_extension": ".py",
   "mimetype": "text/x-python",
   "name": "python",
   "nbconvert_exporter": "python",
   "pygments_lexer": "ipython3",
   "version": "3.7.4"
  }
 },
 "nbformat": 4,
 "nbformat_minor": 2
}
