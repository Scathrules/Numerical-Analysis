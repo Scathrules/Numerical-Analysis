{
 "cells": [
  {
   "cell_type": "code",
   "execution_count": 1,
   "metadata": {},
   "outputs": [],
   "source": [
    "import sympy as sp"
   ]
  },
  {
   "cell_type": "code",
   "execution_count": 2,
   "metadata": {},
   "outputs": [],
   "source": [
    "x,i = sp.symbols('x,i')"
   ]
  },
  {
   "cell_type": "markdown",
   "metadata": {},
   "source": [
    "# Composite Trapezoidal Method"
   ]
  },
  {
   "cell_type": "code",
   "execution_count": 54,
   "metadata": {},
   "outputs": [],
   "source": [
    "#Composite Trapezoidal Method\n",
    "\n",
    "\n",
    "def comp_trap(f,a,b,r):                   #input the integrand f, lower bound a, upper bound b, and number r\n",
    "                                          #of subintervals\n",
    "\n",
    "    h = (b-a)/r                           #Width of each subinterval\n",
    "    ti = a + i*h                          #Subinterval value ti\n",
    "    fa = f.subs(x,a)                      #Compute f(a) value\n",
    "    fb = f.subs(x,b)                      #Compute f(b) value\n",
    "    \n",
    "    I_CT = (h/2)*(fa + 2*(sp.Sum(f.subs(x,ti),(i,1,int(r-1)))) + fb) #Composite Trapezoidal Method Formula \n",
    "    \n",
    "    return I_CT.evalf()\n",
    "\n"
   ]
  },
  {
   "cell_type": "markdown",
   "metadata": {},
   "source": [
    "# Example of Composite Trapezoidal Method"
   ]
  },
  {
   "cell_type": "markdown",
   "metadata": {},
   "source": [
    "Let's test the composite trapezoidal method on the function $f(x)=e^{-x^{2}}$ on the interval $[0,1]$ with $r=10$ subintervals"
   ]
  },
  {
   "cell_type": "code",
   "execution_count": 55,
   "metadata": {},
   "outputs": [
    {
     "data": {
      "text/latex": [
       "$\\displaystyle 0.746210796131749$"
      ],
      "text/plain": [
       "0.746210796131749"
      ]
     },
     "execution_count": 55,
     "metadata": {},
     "output_type": "execute_result"
    }
   ],
   "source": [
    "comp_trap(sp.exp(-x**2),0,1,10)"
   ]
  },
  {
   "cell_type": "markdown",
   "metadata": {},
   "source": [
    "The actual value is $\\int_{0}^{1} e^{-x^{2}} dx = \\frac{\\sqrt{\\pi}}{2}\\text{erf}(1)$"
   ]
  },
  {
   "cell_type": "code",
   "execution_count": null,
   "metadata": {},
   "outputs": [],
   "source": []
  }
 ],
 "metadata": {
  "kernelspec": {
   "display_name": "Python 3",
   "language": "python",
   "name": "python3"
  },
  "language_info": {
   "codemirror_mode": {
    "name": "ipython",
    "version": 3
   },
   "file_extension": ".py",
   "mimetype": "text/x-python",
   "name": "python",
   "nbconvert_exporter": "python",
   "pygments_lexer": "ipython3",
   "version": "3.7.4"
  }
 },
 "nbformat": 4,
 "nbformat_minor": 2
}
