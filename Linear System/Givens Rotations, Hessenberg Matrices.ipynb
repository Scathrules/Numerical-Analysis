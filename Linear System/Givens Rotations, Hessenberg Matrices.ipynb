{
 "cells": [
  {
   "cell_type": "code",
   "execution_count": 8,
   "metadata": {},
   "outputs": [],
   "source": [
    "import numpy as np\n",
    "import scipy.linalg as sci\n",
    "np.set_printoptions(precision=3,suppress=True)"
   ]
  },
  {
   "cell_type": "markdown",
   "metadata": {},
   "source": [
    "# Hessenberg Decomposition"
   ]
  },
  {
   "cell_type": "code",
   "execution_count": 16,
   "metadata": {},
   "outputs": [],
   "source": [
    "def HH(A):\n",
    "    n = np.size(A,axis=0)\n",
    "    Q = np.eye(n)\n",
    "              \n",
    "    for k in range(0,n-2):\n",
    "        x = A[k+1:,k]\n",
    "        lx = len(x)\n",
    "\n",
    "        p = (-np.sign(x[0])*np.linalg.norm(x))\n",
    "        v = -x \n",
    "        v[0] = v[0] + p\n",
    "        R = np.eye(lx) - 2*(np.outer(v,v))/(v.T@v)\n",
    "        \n",
    "        Qi = sci.block_diag(np.eye(k+1),R)\n",
    "        A = Qi@A@Qi.T                                #This is the recursion to get the Hessenberg matrix\n",
    "        Q = Q@Qi                                     #This is the recursion to get the orthogonal matrix\n",
    "\n",
    "    H=A    \n",
    "    return H,Q\n"
   ]
  },
  {
   "cell_type": "markdown",
   "metadata": {},
   "source": [
    "# Givens Rotation"
   ]
  },
  {
   "cell_type": "code",
   "execution_count": 17,
   "metadata": {
    "scrolled": false
   },
   "outputs": [],
   "source": [
    "def GivensRot(a,b):                  #Code for Givens Rotation\n",
    "    givens_mat = np.zeros((2,2))\n",
    "    \n",
    "    if abs(b) >= abs(a):\n",
    "        t = a/b\n",
    "        s = 1 / ((1+t**2)**0.5)\n",
    "        c = s*t\n",
    "        \n",
    "    elif abs(a) >= abs(b):\n",
    "        t = b/a\n",
    "        c = 1 / ((1+t**2)**0.5)\n",
    "        s = c*t\n",
    "        \n",
    "    return np.array([[c,-s],[s,c]])   #Output is the 2x2 rotation matrix\n",
    "\n",
    "          \n",
    "def GivensQRHess(H):                  #QR Decomposition using Givens Rotation\n",
    "    n = np.size(H,axis=0)\n",
    "    Q = np.eye(n)\n",
    "    \n",
    "    for k in range(0,n-1):\n",
    "        a = H[k,k]\n",
    "        b = H[k+1,k]\n",
    "        giv_mat = GivensRot(a,b)\n",
    "        \n",
    "        G = sci.block_diag(np.eye(k),giv_mat,np.eye(n-k-2))\n",
    "        H = G.T@H\n",
    "        Q = Q@G\n",
    "    \n",
    "    return H,Q                       #Output is the new Hessenberg matrix H and orthogonal matrix Q\n"
   ]
  },
  {
   "cell_type": "markdown",
   "metadata": {},
   "source": [
    "# Upper Hessenberg Matrix Converger"
   ]
  },
  {
   "cell_type": "code",
   "execution_count": 26,
   "metadata": {},
   "outputs": [],
   "source": [
    "def ConvergeHess(H,k):      #Input an upper Hessenberg matrix for H and the number of times k you want \n",
    "                            #to run the Givens QR decomposition code\n",
    "    if (k == 0):\n",
    "        return H\n",
    "    else:\n",
    "        Hk = H\n",
    "        n = 0 \n",
    "        while (n <= k):\n",
    "            Ht,Qt = GivensQRHess(Hk)\n",
    "            Hk = Ht\n",
    "            n += 1\n",
    "    return Hk               #Output will be upper triangular or Hessenberg depending on k\n"
   ]
  },
  {
   "cell_type": "markdown",
   "metadata": {},
   "source": [
    "# Example of Hessenberg Matrix Converger"
   ]
  },
  {
   "cell_type": "code",
   "execution_count": 21,
   "metadata": {},
   "outputs": [],
   "source": [
    "ex_mat = np.array([[4.8574,0.2750,-1.0182,0.6499,-1.0429,1.1356,-0.2263,0.0595],\n",
    "                       [0.3412,3.2061,-0.3560,-0.1288,-0.5041,0.1073,-1.1366,-0.6932],\n",
    "                       [-0.9537,-0.3791,3.5085,0.5173,1.2230,-1.1862,1.2539,-0.6567],\n",
    "                       [0.7633,-0.1537,0.5710,5.5440,-1.1054,-0.6215,-0.0770,-0.3176],\n",
    "                       [-1.0826,-0.4345,1.2816,-1.0685,6.2123,0.7262,-0.8017,0.5979],\n",
    "                       [1.1230,0.1449,-1.2203,-0.6752,0.8096,4.1445,0.2589,-0.8535],\n",
    "                       [-0.0955,-1.1556,1.1972,-0.1305,-0.8919,0.3975,5.5447,-0.4539],\n",
    "                       [0.0208,-0.6059,-0.7259,-0.3221,0.5742,-0.8451,-0.4686,2.9769]])\n"
   ]
  },
  {
   "cell_type": "code",
   "execution_count": 22,
   "metadata": {},
   "outputs": [
    {
     "data": {
      "text/plain": [
       "array([[ 4.857, -1.981, -0.025,  0.093,  0.11 ,  0.053,  0.113,  0.061],\n",
       "       [-2.013,  5.717, -1.506, -0.106, -0.056,  0.021, -0.086,  0.06 ],\n",
       "       [ 0.   , -1.519,  4.813, -1.905, -0.06 , -0.073,  0.029,  0.061],\n",
       "       [-0.   , -0.   , -1.906,  3.47 ,  1.897,  0.019,  0.028, -0.085],\n",
       "       [ 0.   ,  0.   , -0.   ,  1.95 ,  4.755,  1.315,  0.044, -0.08 ],\n",
       "       [ 0.   , -0.   ,  0.   ,  0.   ,  1.255,  3.513,  1.48 , -0.073],\n",
       "       [-0.   ,  0.   ,  0.   ,  0.   ,  0.   ,  1.534,  4.147, -1.227],\n",
       "       [-0.   ,  0.   , -0.   , -0.   ,  0.   ,  0.   , -1.18 ,  4.723]])"
      ]
     },
     "execution_count": 22,
     "metadata": {},
     "output_type": "execute_result"
    }
   ],
   "source": [
    "H0,Q0 = HH(ex_mat)\n",
    "\n",
    "H0 #Upper Hessenberg matrix of ex_mat"
   ]
  },
  {
   "cell_type": "code",
   "execution_count": 23,
   "metadata": {},
   "outputs": [
    {
     "data": {
      "text/plain": [
       "array([[ 5.258, -4.019,  0.553,  0.127,  0.123,  0.041,  0.138,  0.033],\n",
       "       [ 0.   ,  4.772, -2.86 ,  0.548,  0.01 ,  0.061, -0.044,  0.055],\n",
       "       [ 0.   ,  0.   ,  4.536, -3.115, -0.851, -0.06 ,  0.003,  0.111],\n",
       "       [ 0.   , -0.   ,  0.   ,  3.078,  4.325,  0.828,  0.053, -0.083],\n",
       "       [ 0.   ,  0.   ,  0.   ,  0.   ,  2.891,  2.446,  0.655, -0.064],\n",
       "       [-0.   ,  0.   ,  0.   ,  0.   ,  0.   ,  3.123,  3.193, -0.647],\n",
       "       [-0.   ,  0.   ,  0.   ,  0.   , -0.   ,  0.   ,  3.187, -2.718],\n",
       "       [-0.   ,  0.   , -0.   , -0.   ,  0.   ,  0.   ,  0.   ,  4.001]])"
      ]
     },
     "execution_count": 23,
     "metadata": {},
     "output_type": "execute_result"
    }
   ],
   "source": [
    "ConvergeHess(H0,10) "
   ]
  },
  {
   "cell_type": "code",
   "execution_count": 24,
   "metadata": {},
   "outputs": [
    {
     "data": {
      "text/plain": [
       "array([[ 5.258, -4.019,  0.553,  0.127,  0.123,  0.041,  0.138,  0.033],\n",
       "       [ 0.   ,  4.772, -2.86 ,  0.548,  0.01 ,  0.061, -0.044,  0.055],\n",
       "       [ 0.   ,  0.   ,  4.536, -3.115, -0.851, -0.06 ,  0.003,  0.111],\n",
       "       [ 0.   , -0.   ,  0.   ,  3.078,  4.325,  0.828,  0.053, -0.083],\n",
       "       [ 0.   ,  0.   ,  0.   ,  0.   ,  2.891,  2.446,  0.655, -0.064],\n",
       "       [-0.   ,  0.   ,  0.   ,  0.   ,  0.   ,  3.123,  3.193, -0.647],\n",
       "       [-0.   ,  0.   ,  0.   ,  0.   , -0.   ,  0.   ,  3.187, -2.718],\n",
       "       [-0.   ,  0.   , -0.   , -0.   ,  0.   ,  0.   ,  0.   ,  4.001]])"
      ]
     },
     "execution_count": 24,
     "metadata": {},
     "output_type": "execute_result"
    }
   ],
   "source": [
    "ConvergeHess(H0,50) "
   ]
  },
  {
   "cell_type": "code",
   "execution_count": 25,
   "metadata": {},
   "outputs": [
    {
     "data": {
      "text/plain": [
       "array([[ 5.258, -4.019,  0.553,  0.127,  0.123,  0.041,  0.138,  0.033],\n",
       "       [ 0.   ,  4.772, -2.86 ,  0.548,  0.01 ,  0.061, -0.044,  0.055],\n",
       "       [ 0.   ,  0.   ,  4.536, -3.115, -0.851, -0.06 ,  0.003,  0.111],\n",
       "       [ 0.   , -0.   ,  0.   ,  3.078,  4.325,  0.828,  0.053, -0.083],\n",
       "       [ 0.   ,  0.   ,  0.   ,  0.   ,  2.891,  2.446,  0.655, -0.064],\n",
       "       [-0.   ,  0.   ,  0.   ,  0.   ,  0.   ,  3.123,  3.193, -0.647],\n",
       "       [-0.   ,  0.   ,  0.   ,  0.   , -0.   ,  0.   ,  3.187, -2.718],\n",
       "       [-0.   ,  0.   , -0.   , -0.   ,  0.   ,  0.   ,  0.   ,  4.001]])"
      ]
     },
     "execution_count": 25,
     "metadata": {},
     "output_type": "execute_result"
    }
   ],
   "source": [
    "ConvergeHess(H0,100) "
   ]
  }
 ],
 "metadata": {
  "kernelspec": {
   "display_name": "Python 3",
   "language": "python",
   "name": "python3"
  },
  "language_info": {
   "codemirror_mode": {
    "name": "ipython",
    "version": 3
   },
   "file_extension": ".py",
   "mimetype": "text/x-python",
   "name": "python",
   "nbconvert_exporter": "python",
   "pygments_lexer": "ipython3",
   "version": "3.7.4"
  }
 },
 "nbformat": 4,
 "nbformat_minor": 2
}
