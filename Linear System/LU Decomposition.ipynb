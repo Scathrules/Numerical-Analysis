{
 "cells": [
  {
   "cell_type": "code",
   "execution_count": 12,
   "metadata": {},
   "outputs": [],
   "source": [
    "import numpy as np\n",
    "import matplotlib.pyplot as plt\n",
    "from timeit import timeit"
   ]
  },
  {
   "cell_type": "markdown",
   "metadata": {},
   "source": [
    "# Upper Matrix Solver"
   ]
  },
  {
   "cell_type": "code",
   "execution_count": 6,
   "metadata": {},
   "outputs": [],
   "source": [
    "def upper_matrix_solver(A,b):     #input an upper triangular matrix A and b-vector\n",
    "    \n",
    "    if np.size(A,axis=0) != np.size(A,axis=1):\n",
    "        print(\"Please input a square matrix\")\n",
    "    \n",
    "    else:\n",
    "        n = np.size(A,axis=0)-1\n",
    "        x = np.zeros((1,n+1))\n",
    "        \n",
    "        for i in range(n,-1,-1):\n",
    "            x[0,i] = (b[0,i] - np.sum(A[i,i+1:n+1]*x[0,i+1:n+1])) / A[i,i]\n",
    "            \n",
    "        return x\n"
   ]
  },
  {
   "cell_type": "markdown",
   "metadata": {},
   "source": [
    "# Example of Upper Matrix Solver"
   ]
  },
  {
   "cell_type": "code",
   "execution_count": 7,
   "metadata": {},
   "outputs": [
    {
     "data": {
      "text/plain": [
       "array([[0.41101615, 0.07644628, 0.63636364]])"
      ]
     },
     "execution_count": 7,
     "metadata": {},
     "output_type": "execute_result"
    }
   ],
   "source": [
    "T1 = np.array([[44,31,4],[0,44,1],[0,0,11]])  \n",
    "h1 = np.array([[23,4,7]])\n",
    "\n",
    "upper_matrix_solver(T1,h1)"
   ]
  },
  {
   "cell_type": "markdown",
   "metadata": {},
   "source": [
    "# Lower Matrix Solver"
   ]
  },
  {
   "cell_type": "code",
   "execution_count": 8,
   "metadata": {},
   "outputs": [],
   "source": [
    "def lower_matrix_solver(A,b):        #input a lower triangular matrix A and b-vector\n",
    "    \n",
    "    if ((np.size(A,axis=0)) != (np.size(A,axis=1))):\n",
    "        print(\"Please input a square matrix\")\n",
    "    \n",
    "    else:\n",
    "        n = np.size(A,axis=0)-1\n",
    "        x = np.zeros((1,n+1))\n",
    "        \n",
    "        for i in range(0,n+1):\n",
    "            x[0,i] = (b[i] - np.sum(A[i,0:i]*x[0,0:i])) / A[i,i] \n",
    "            \n",
    "        return x\n"
   ]
  },
  {
   "cell_type": "markdown",
   "metadata": {},
   "source": [
    "# Example of Lower Matrix Solver"
   ]
  },
  {
   "cell_type": "code",
   "execution_count": 9,
   "metadata": {},
   "outputs": [
    {
     "data": {
      "text/plain": [
       "array([[ 2.0000e+00, -1.3700e+02,  1.2444e+04, -7.4546e+04]])"
      ]
     },
     "execution_count": 9,
     "metadata": {},
     "output_type": "execute_result"
    }
   ],
   "source": [
    "S1 = np.array([[1,0,0,0],[73,1,0,0],[22,91,1,0],[93,2,6,1]])      \n",
    "v2 = np.array([2,9,21,30])\n",
    "\n",
    "lower_matrix_solver(S1,v2)"
   ]
  },
  {
   "cell_type": "markdown",
   "metadata": {},
   "source": [
    "# LU Decomposition Solver"
   ]
  },
  {
   "cell_type": "code",
   "execution_count": 10,
   "metadata": {},
   "outputs": [],
   "source": [
    "def LU(A):             #Input a square nxn matrix\n",
    "    n = np.size(A,0)-1 #size of an nxn matrix\n",
    "    \n",
    "    if np.size(A,0) != np.size(A,1):\n",
    "        print(\"Please input a square matrix\")\n",
    "        \n",
    "    else:\n",
    "        L = np.zeros((n+1,n+1))\n",
    "        U = np.zeros((n+1,n+1))\n",
    "        \n",
    "        for i in range(0,n+1):\n",
    "            U[0,i] = A[0,i]\n",
    "            L[i,i] = 1\n",
    "            for k in range(0,n):\n",
    "                for j in range(k+1,n+1):\n",
    "                    \n",
    "                    #Lower Triangular Matrix\n",
    "                    L[j,k] = (A[j,k] - np.sum(L[j,0:k]*U[0:k,k])) / U[k,k]\n",
    "\n",
    "                    #Upper Triangular Matrix\n",
    "                    U[k+1,j] = (A[k+1,j] - np.sum(L[k+1,0:k+1]*U[0:k+1,j]))\n",
    "\n",
    "        return L,U       #Output is the lower triangular matrix L and upper triangular matrix U\n",
    "     "
   ]
  },
  {
   "cell_type": "markdown",
   "metadata": {},
   "source": [
    "# Example of LU Decomposition Solver"
   ]
  },
  {
   "cell_type": "code",
   "execution_count": 11,
   "metadata": {
    "scrolled": true
   },
   "outputs": [
    {
     "data": {
      "text/plain": [
       "(array([[ 1.        ,  0.        ,  0.        ,  0.        ],\n",
       "        [ 0.87809488,  1.        ,  0.        ,  0.        ],\n",
       "        [ 0.17826185, 22.26610164,  1.        ,  0.        ],\n",
       "        [ 1.5195241 , 21.21043302,  1.27444614,  1.        ]]),\n",
       " array([[ 0.6303828 ,  0.02427384,  0.37252219,  0.95360172],\n",
       "        [ 0.        ,  0.03717248,  0.21038829, -0.18539753],\n",
       "        [ 0.        ,  0.        , -3.8310666 ,  4.2019011 ],\n",
       "        [ 0.        ,  0.        ,  0.        , -2.05812949]]))"
      ]
     },
     "execution_count": 11,
     "metadata": {},
     "output_type": "execute_result"
    }
   ],
   "source": [
    "H = np.random.rand(4,4)    \n",
    "\n",
    "LU(H)"
   ]
  },
  {
   "cell_type": "markdown",
   "metadata": {},
   "source": [
    "# Time Analysis of LU Decomposition"
   ]
  },
  {
   "cell_type": "markdown",
   "metadata": {},
   "source": [
    "We will use matrices of size $2^{n}$ with random numerical entries to analyze the time complexity of the LU decomposition solver"
   ]
  },
  {
   "cell_type": "code",
   "execution_count": 14,
   "metadata": {},
   "outputs": [],
   "source": [
    "def randmat(k):   #This code generates a square matrix of size 2^(n x n) with random entries\n",
    "    n = 2**k\n",
    "    A = np.random.rand(n,n)\n",
    "    return A        #Output is a square nxn matrix with random entries\n",
    "\n",
    "\n",
    "def time_func(func,k,reps=10):    #This code calculates the time it takes to run my LU code averaged \n",
    "                                  #over 10 repetitions\n",
    "    timelst = []\n",
    "    for i in k:\n",
    "        B = randmat(i)\n",
    "        avg_time = timeit(lambda:func(B),number=reps) / reps\n",
    "        timelst.append(avg_time)\n",
    "    \n",
    "    return (np.array(timelst)*1000)     #The output is in ms (microseconds)\n"
   ]
  },
  {
   "cell_type": "code",
   "execution_count": 15,
   "metadata": {
    "scrolled": true
   },
   "outputs": [
    {
     "data": {
      "image/png": "[encoded data removed]",
      "text/plain": [
       "<Figure size 432x288 with 1 Axes>"
      ]
     },
     "metadata": {
      "needs_background": "light"
     },
     "output_type": "display_data"
    }
   ],
   "source": [
    "k1 = np.arange(1,7)   \n",
    "n = 2**k1             #Matrix size\n",
    "time_func(LU,k1)\n",
    "\n",
    "plt.plot(n,time_func(LU,k1))\n",
    "\n",
    "plt.suptitle(\"LU Decomposition Times\",fontsize=12,fontweight='bold')\n",
    "plt.title(\"By Eric Sung\")\n",
    "plt.xlabel('$n=2^{k}$')\n",
    "plt.ylabel('Time (in ms)')\n",
    "plt.show()"
   ]
  },
  {
   "cell_type": "markdown",
   "metadata": {},
   "source": [
    "From the time plot, we are able to see that the LU code takes increasingly longer times for larger matrices with the \n",
    "the time plot taking on extremely high time values in for larger n values. On the other hand, we see that the time\n",
    "the code takes for smaller n values is negligible. "
   ]
  },
  {
   "cell_type": "code",
   "execution_count": null,
   "metadata": {},
   "outputs": [],
   "source": []
  }
 ],
 "metadata": {
  "kernelspec": {
   "display_name": "Python 3",
   "language": "python",
   "name": "python3"
  },
  "language_info": {
   "codemirror_mode": {
    "name": "ipython",
    "version": 3
   },
   "file_extension": ".py",
   "mimetype": "text/x-python",
   "name": "python",
   "nbconvert_exporter": "python",
   "pygments_lexer": "ipython3",
   "version": "3.7.4"
  }
 },
 "nbformat": 4,
 "nbformat_minor": 2
}
